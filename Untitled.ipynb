{
 "cells": [
  {
   "cell_type": "code",
   "execution_count": 1,
   "id": "0cde94bf-7c6c-4e21-89f5-45f1ab2b26c5",
   "metadata": {},
   "outputs": [],
   "source": [
    "file = open(\"prueba.txt\", \"w\")"
   ]
  },
  {
   "cell_type": "code",
   "execution_count": 4,
   "id": "17e21cc6-892f-4e2b-9b6a-2182036f0654",
   "metadata": {},
   "outputs": [
    {
     "data": {
      "text/plain": [
       "'w'"
      ]
     },
     "execution_count": 4,
     "metadata": {},
     "output_type": "execute_result"
    }
   ],
   "source": [
    "file.__getattribute__(\"mode\")"
   ]
  },
  {
   "cell_type": "code",
   "execution_count": 5,
   "id": "817a7d75-a950-49e3-adf7-494be09367a2",
   "metadata": {},
   "outputs": [
    {
     "ename": "AttributeError",
     "evalue": "'_io.TextIOWrapper' object has no attribute '__getattr__'",
     "output_type": "error",
     "traceback": [
      "\u001b[1;31m---------------------------------------------------------------------------\u001b[0m",
      "\u001b[1;31mAttributeError\u001b[0m                            Traceback (most recent call last)",
      "\u001b[1;32m<ipython-input-5-bc36b2337524>\u001b[0m in \u001b[0;36m<module>\u001b[1;34m\u001b[0m\n\u001b[1;32m----> 1\u001b[1;33m \u001b[0mfile\u001b[0m\u001b[1;33m.\u001b[0m\u001b[0m__getattr__\u001b[0m\u001b[1;33m(\u001b[0m\u001b[1;33m)\u001b[0m\u001b[1;33m\u001b[0m\u001b[1;33m\u001b[0m\u001b[0m\n\u001b[0m",
      "\u001b[1;31mAttributeError\u001b[0m: '_io.TextIOWrapper' object has no attribute '__getattr__'"
     ]
    }
   ],
   "source": [
    "file.__getattr__()"
   ]
  },
  {
   "cell_type": "code",
   "execution_count": 6,
   "id": "c76ab902-571d-4408-9098-11239dda13c6",
   "metadata": {},
   "outputs": [],
   "source": [
    "class Circle:\n",
    "  def __init__(self, radius):\n",
    "    self.radius = radius\n",
    "\n",
    "  def resize(self, factor):\n",
    "    self.radius *= factor\n",
    "\n",
    "  def __str__(self):\n",
    "    return 'A circle of radius %s' % self.radius\n",
    "\n",
    "class Square:\n",
    "  def __init__(self, side):\n",
    "    self.side = side\n",
    "\n",
    "  def __str__(self):\n",
    "    return 'A square with side %s' % self.side\n",
    "\n",
    "\n",
    "class ColoredShape:\n",
    "  def __init__(self, shape, color):\n",
    "    self.color = color\n",
    "    self.shape = shape\n",
    "\n",
    "  def resize(self, factor):\n",
    "    r = getattr(self.shape, \"resize\", None)\n",
    "    if callable(r):\n",
    "        self.shape.resize(factor)\n",
    "\n",
    "  def __str__(self):\n",
    "      return \"%s has the color %s\" %\\\n",
    "           (self.shape, self.color)"
   ]
  },
  {
   "cell_type": "code",
   "execution_count": 7,
   "id": "77a44f7d-7935-463e-9baf-6657caf3603d",
   "metadata": {},
   "outputs": [],
   "source": [
    "test = ColoredShape(Square(4), \"red\")"
   ]
  },
  {
   "cell_type": "code",
   "execution_count": 12,
   "id": "560d12ef-c1af-4704-9013-f0e6ad484fe1",
   "metadata": {},
   "outputs": [
    {
     "data": {
      "text/plain": [
       "NoneType"
      ]
     },
     "execution_count": 12,
     "metadata": {},
     "output_type": "execute_result"
    }
   ],
   "source": [
    "type(test.resize(2))"
   ]
  },
  {
   "cell_type": "code",
   "execution_count": 18,
   "id": "518ade8c-60bf-459b-b199-152e598f1617",
   "metadata": {},
   "outputs": [],
   "source": [
    "class Sentence:\n",
    "    strings = []\n",
    "    def __init__(self, text):\n",
    "        if text not in self.strings:\n",
    "            self.strings.append(text)\n",
    "        "
   ]
  },
  {
   "cell_type": "code",
   "execution_count": 19,
   "id": "2d24dbcc-2f56-471b-aa57-97ce5c26c90a",
   "metadata": {},
   "outputs": [],
   "source": [
    "a = Sentence(\"uno\")"
   ]
  },
  {
   "cell_type": "code",
   "execution_count": 20,
   "id": "dacf444f-d5d8-4a8f-9ea6-36b1d7782bea",
   "metadata": {},
   "outputs": [],
   "source": [
    "b = Sentence(\"dos\")"
   ]
  },
  {
   "cell_type": "code",
   "execution_count": 21,
   "id": "4237dd55-a16d-4c5f-899d-c7ca198b3ed9",
   "metadata": {},
   "outputs": [
    {
     "data": {
      "text/plain": [
       "['uno', 'dos']"
      ]
     },
     "execution_count": 21,
     "metadata": {},
     "output_type": "execute_result"
    }
   ],
   "source": [
    "a.strings"
   ]
  }
 ],
 "metadata": {
  "kernelspec": {
   "display_name": "Python 3",
   "language": "python",
   "name": "python3"
  },
  "language_info": {
   "codemirror_mode": {
    "name": "ipython",
    "version": 3
   },
   "file_extension": ".py",
   "mimetype": "text/x-python",
   "name": "python",
   "nbconvert_exporter": "python",
   "pygments_lexer": "ipython3",
   "version": "3.6.13"
  }
 },
 "nbformat": 4,
 "nbformat_minor": 5
}
