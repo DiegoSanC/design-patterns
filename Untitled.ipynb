{
 "cells": [
  {
   "cell_type": "code",
   "execution_count": 1,
   "id": "0cde94bf-7c6c-4e21-89f5-45f1ab2b26c5",
   "metadata": {},
   "outputs": [],
   "source": [
    "file = open(\"prueba.txt\", \"w\")"
   ]
  },
  {
   "cell_type": "code",
   "execution_count": 4,
   "id": "17e21cc6-892f-4e2b-9b6a-2182036f0654",
   "metadata": {},
   "outputs": [
    {
     "data": {
      "text/plain": [
       "'w'"
      ]
     },
     "execution_count": 4,
     "metadata": {},
     "output_type": "execute_result"
    }
   ],
   "source": [
    "file.__getattribute__(\"mode\")"
   ]
  },
  {
   "cell_type": "code",
   "execution_count": 5,
   "id": "817a7d75-a950-49e3-adf7-494be09367a2",
   "metadata": {},
   "outputs": [
    {
     "ename": "AttributeError",
     "evalue": "'_io.TextIOWrapper' object has no attribute '__getattr__'",
     "output_type": "error",
     "traceback": [
      "\u001b[1;31m---------------------------------------------------------------------------\u001b[0m",
      "\u001b[1;31mAttributeError\u001b[0m                            Traceback (most recent call last)",
      "\u001b[1;32m<ipython-input-5-bc36b2337524>\u001b[0m in \u001b[0;36m<module>\u001b[1;34m\u001b[0m\n\u001b[1;32m----> 1\u001b[1;33m \u001b[0mfile\u001b[0m\u001b[1;33m.\u001b[0m\u001b[0m__getattr__\u001b[0m\u001b[1;33m(\u001b[0m\u001b[1;33m)\u001b[0m\u001b[1;33m\u001b[0m\u001b[1;33m\u001b[0m\u001b[0m\n\u001b[0m",
      "\u001b[1;31mAttributeError\u001b[0m: '_io.TextIOWrapper' object has no attribute '__getattr__'"
     ]
    }
   ],
   "source": [
    "file.__getattr__()"
   ]
  },
  {
   "cell_type": "code",
   "execution_count": 6,
   "id": "c76ab902-571d-4408-9098-11239dda13c6",
   "metadata": {},
   "outputs": [],
   "source": [
    "class Circle:\n",
    "  def __init__(self, radius):\n",
    "    self.radius = radius\n",
    "\n",
    "  def resize(self, factor):\n",
    "    self.radius *= factor\n",
    "\n",
    "  def __str__(self):\n",
    "    return 'A circle of radius %s' % self.radius\n",
    "\n",
    "class Square:\n",
    "  def __init__(self, side):\n",
    "    self.side = side\n",
    "\n",
    "  def __str__(self):\n",
    "    return 'A square with side %s' % self.side\n",
    "\n",
    "\n",
    "class ColoredShape:\n",
    "  def __init__(self, shape, color):\n",
    "    self.color = color\n",
    "    self.shape = shape\n",
    "\n",
    "  def resize(self, factor):\n",
    "    r = getattr(self.shape, \"resize\", None)\n",
    "    if callable(r):\n",
    "        self.shape.resize(factor)\n",
    "\n",
    "  def __str__(self):\n",
    "      return \"%s has the color %s\" %\\\n",
    "           (self.shape, self.color)"
   ]
  },
  {
   "cell_type": "code",
   "execution_count": 7,
   "id": "77a44f7d-7935-463e-9baf-6657caf3603d",
   "metadata": {},
   "outputs": [],
   "source": [
    "test = ColoredShape(Square(4), \"red\")"
   ]
  },
  {
   "cell_type": "code",
   "execution_count": 12,
   "id": "560d12ef-c1af-4704-9013-f0e6ad484fe1",
   "metadata": {},
   "outputs": [
    {
     "data": {
      "text/plain": [
       "NoneType"
      ]
     },
     "execution_count": 12,
     "metadata": {},
     "output_type": "execute_result"
    }
   ],
   "source": [
    "type(test.resize(2))"
   ]
  },
  {
   "cell_type": "code",
   "execution_count": 18,
   "id": "518ade8c-60bf-459b-b199-152e598f1617",
   "metadata": {},
   "outputs": [],
   "source": [
    "class Sentence:\n",
    "    strings = []\n",
    "    def __init__(self, text):\n",
    "        if text not in self.strings:\n",
    "            self.strings.append(text)\n",
    "        "
   ]
  },
  {
   "cell_type": "code",
   "execution_count": 19,
   "id": "2d24dbcc-2f56-471b-aa57-97ce5c26c90a",
   "metadata": {},
   "outputs": [],
   "source": [
    "a = Sentence(\"uno\")"
   ]
  },
  {
   "cell_type": "code",
   "execution_count": 20,
   "id": "dacf444f-d5d8-4a8f-9ea6-36b1d7782bea",
   "metadata": {},
   "outputs": [],
   "source": [
    "b = Sentence(\"dos\")"
   ]
  },
  {
   "cell_type": "code",
   "execution_count": 21,
   "id": "4237dd55-a16d-4c5f-899d-c7ca198b3ed9",
   "metadata": {},
   "outputs": [
    {
     "data": {
      "text/plain": [
       "['uno', 'dos']"
      ]
     },
     "execution_count": 21,
     "metadata": {},
     "output_type": "execute_result"
    }
   ],
   "source": [
    "a.strings"
   ]
  },
  {
   "cell_type": "code",
   "execution_count": 15,
   "metadata": {},
   "outputs": [],
   "source": [
    "class Person:\n",
    "    def __init__(self, age):\n",
    "        self.age = age\n",
    "\n",
    "    def drink(self):\n",
    "        return 'drinking'\n",
    "\n",
    "    def drive(self):\n",
    "        return 'driving'\n",
    "\n",
    "    def drink_and_drive(self):\n",
    "        return 'driving while drunk'\n",
    "\n",
    "class ResponsiblePerson:\n",
    "    def __init__(self, person):\n",
    "        self.person = person\n",
    "        self.drunk = False\n",
    "        self.driving = False\n",
    "\n",
    "    @property\n",
    "    def age(self):\n",
    "        return self.person.age\n",
    "\n",
    "    @age.setter\n",
    "    def age(self, value):\n",
    "        self.person.age = value\n",
    "\n",
    "    def drink(self):\n",
    "        if self.person.age < 18:\n",
    "            return \"too young\"\n",
    "        else:\n",
    "            self.drunk = True\n",
    "            return self.person.drink()\n",
    "    def drive(self):\n",
    "        if self.person.age < 16:\n",
    "            return \"too young\"\n",
    "        else:\n",
    "            self.driving = True\n",
    "            return self.person.drive()\n",
    "\n",
    "    def drink_and_drive(self):\n",
    "        return \"dead\"\n",
    "        "
   ]
  },
  {
   "cell_type": "code",
   "execution_count": 16,
   "metadata": {},
   "outputs": [],
   "source": [
    "p = Person(10)\n",
    "rp = ResponsiblePerson(p)\n",
    "\n",
    "# assertEqual('too young', rp.drive())\n",
    "# assertEqual('too young', rp.drink())\n",
    "# assertEqual('dead', rp.drink_and_drive())"
   ]
  },
  {
   "cell_type": "code",
   "execution_count": 17,
   "metadata": {},
   "outputs": [
    {
     "output_type": "execute_result",
     "data": {
      "text/plain": [
       "('too young', 'too young', 'dead')"
      ]
     },
     "metadata": {},
     "execution_count": 17
    }
   ],
   "source": [
    "rp.drive(), rp.drink(), rp.drink_and_drive()"
   ]
  },
  {
   "cell_type": "code",
   "execution_count": 18,
   "metadata": {},
   "outputs": [],
   "source": [
    "rp.age = 20"
   ]
  },
  {
   "cell_type": "code",
   "execution_count": 19,
   "metadata": {},
   "outputs": [
    {
     "output_type": "execute_result",
     "data": {
      "text/plain": [
       "20"
      ]
     },
     "metadata": {},
     "execution_count": 19
    }
   ],
   "source": [
    "p.age"
   ]
  },
  {
   "cell_type": "code",
   "execution_count": 53,
   "metadata": {},
   "outputs": [],
   "source": [
    "import random"
   ]
  },
  {
   "cell_type": "code",
   "execution_count": 59,
   "metadata": {},
   "outputs": [
    {
     "output_type": "execute_result",
     "data": {
      "text/plain": [
       "61116"
      ]
     },
     "metadata": {},
     "execution_count": 59
    }
   ],
   "source": [
    "random.randint(0,100000)"
   ]
  },
  {
   "cell_type": "code",
   "execution_count": 60,
   "metadata": {},
   "outputs": [],
   "source": [
    "import random\n",
    "class Creature:\n",
    "    def __init__(self, name, attack, defense) -> None:\n",
    "        self.name = name\n",
    "        self.attack = attack\n",
    "        self.defense = defense\n",
    "    \n",
    "    def __str__(self) -> str:\n",
    "        return f\"{self.name} ({self.attack}/{self.defense})\"\n",
    "\n",
    "class CreatureModifier:\n",
    "    def __init__(self, creature) -> None:\n",
    "        self.creature = creature\n",
    "        #esto va a apuntar a la siguiente funcion que se va a ejecutar\n",
    "        self.next_modifier = None\n",
    "\n",
    "    def add_modifier(self, modifier):\n",
    "        print(random.randint(0,100000))\n",
    "        if self.next_modifier:\n",
    "            self.next_modifier.add_modifier(modifier)\n",
    "        else:\n",
    "            self.next_modifier = modifier\n",
    "\n",
    "    def handle(self):\n",
    "        if self.next_modifier:\n",
    "            self.next_modifier.handle()\n",
    "\n",
    "class IncreaseDefenseModifier(CreatureModifier):\n",
    "    def handle(self):\n",
    "        if self.creature.attack <= 2:\n",
    "            print(f\"Increasing {self.creature.name} defense\")\n",
    "            self.creature.defense += 1\n",
    "        else:\n",
    "            print(\"Not possible to increase defense\")\n",
    "        super().handle()\n",
    "\n",
    "class DoubleAttackModifier(CreatureModifier):\n",
    "    def handle(self):\n",
    "        print(f\"Doubling {self.creature.name}'s attack\")\n",
    "        self.creature.attack *= 2\n",
    "        super().handle()\n",
    "\n",
    "class NoBonusesModifier(CreatureModifier):\n",
    "    def handle(self):\n",
    "        print(\"No bonuses for you\")"
   ]
  },
  {
   "cell_type": "code",
   "execution_count": 61,
   "metadata": {},
   "outputs": [
    {
     "output_type": "stream",
     "name": "stdout",
     "text": [
      "Gobline (1/1)\n"
     ]
    }
   ],
   "source": [
    "goblin = Creature(\"Gobline\", 1,1)\n",
    "print(goblin)\n",
    "\n",
    "root = CreatureModifier(goblin)"
   ]
  },
  {
   "cell_type": "code",
   "execution_count": 62,
   "metadata": {},
   "outputs": [
    {
     "output_type": "execute_result",
     "data": {
      "text/plain": [
       "(<__main__.CreatureModifier at 0x20d88fce760>, None)"
      ]
     },
     "metadata": {},
     "execution_count": 62
    }
   ],
   "source": [
    "root, root.next_modifier"
   ]
  },
  {
   "cell_type": "code",
   "execution_count": 63,
   "metadata": {},
   "outputs": [
    {
     "output_type": "stream",
     "name": "stdout",
     "text": [
      "80378\n"
     ]
    }
   ],
   "source": [
    "root.add_modifier(IncreaseDefenseModifier(goblin))"
   ]
  },
  {
   "cell_type": "code",
   "execution_count": 64,
   "metadata": {},
   "outputs": [
    {
     "output_type": "execute_result",
     "data": {
      "text/plain": [
       "(<__main__.CreatureModifier at 0x20d88fce760>,\n",
       " <__main__.IncreaseDefenseModifier at 0x20d88fce370>,\n",
       " None)"
      ]
     },
     "metadata": {},
     "execution_count": 64
    }
   ],
   "source": [
    "root, root.next_modifier, root.next_modifier.next_modifier"
   ]
  },
  {
   "cell_type": "code",
   "execution_count": 65,
   "metadata": {},
   "outputs": [
    {
     "output_type": "stream",
     "name": "stdout",
     "text": [
      "56367\n35564\n"
     ]
    }
   ],
   "source": [
    "root.add_modifier(DoubleAttackModifier(goblin))"
   ]
  },
  {
   "cell_type": "code",
   "execution_count": 66,
   "metadata": {},
   "outputs": [
    {
     "output_type": "execute_result",
     "data": {
      "text/plain": [
       "(<__main__.CreatureModifier at 0x20d88fce760>,\n",
       " <__main__.IncreaseDefenseModifier at 0x20d88fce370>,\n",
       " <__main__.DoubleAttackModifier at 0x20d88fce9a0>,\n",
       " None)"
      ]
     },
     "metadata": {},
     "execution_count": 66
    }
   ],
   "source": [
    "root, root.next_modifier, root.next_modifier.next_modifier, root.next_modifier.next_modifier.next_modifier\n"
   ]
  },
  {
   "cell_type": "code",
   "execution_count": 67,
   "metadata": {},
   "outputs": [
    {
     "output_type": "stream",
     "name": "stdout",
     "text": [
      "40138\n20653\n45771\n"
     ]
    }
   ],
   "source": [
    "root.add_modifier(DoubleAttackModifier(goblin))"
   ]
  },
  {
   "cell_type": "code",
   "execution_count": 68,
   "metadata": {},
   "outputs": [
    {
     "output_type": "execute_result",
     "data": {
      "text/plain": [
       "(<__main__.CreatureModifier at 0x20d88fce760>,\n",
       " <__main__.IncreaseDefenseModifier at 0x20d88fce370>,\n",
       " <__main__.DoubleAttackModifier at 0x20d88fce9a0>,\n",
       " <__main__.DoubleAttackModifier at 0x20d88fce610>)"
      ]
     },
     "metadata": {},
     "execution_count": 68
    }
   ],
   "source": [
    "\n",
    "root, root.next_modifier, root.next_modifier.next_modifier, root.next_modifier.next_modifier.next_modifier\n"
   ]
  },
  {
   "cell_type": "code",
   "execution_count": 30,
   "metadata": {},
   "outputs": [
    {
     "output_type": "execute_result",
     "data": {
      "text/plain": [
       "<bound method CreatureModifier.add_modifier of <__main__.CreatureModifier object at 0x0000020D88B26730>>"
      ]
     },
     "metadata": {},
     "execution_count": 30
    }
   ],
   "source": []
  }
 ],
 "metadata": {
  "kernelspec": {
   "name": "python3",
   "display_name": "Python 3.8.5 64-bit ('base': conda)"
  },
  "language_info": {
   "codemirror_mode": {
    "name": "ipython",
    "version": 3
   },
   "file_extension": ".py",
   "mimetype": "text/x-python",
   "name": "python",
   "nbconvert_exporter": "python",
   "pygments_lexer": "ipython3",
   "version": "3.8.5"
  },
  "interpreter": {
   "hash": "2751dd49061eaddcd1d21f07ab65a2d412e5f9cd59be860e59f35de9ff3f9905"
  }
 },
 "nbformat": 4,
 "nbformat_minor": 5
}