{
 "cells": [
  {
   "cell_type": "code",
   "execution_count": 44,
   "metadata": {},
   "outputs": [],
   "source": [
    "import random\n",
    "class Creature:\n",
    "    def __init__(self, name, attack, defense) -> None:\n",
    "        self.name = name\n",
    "        self.attack = attack\n",
    "        self.defense = defense\n",
    "    \n",
    "    def __str__(self) -> str:\n",
    "        return f\"{self.name} ({self.attack}/{self.defense})\"\n",
    "\n",
    "class CreatureModifier:\n",
    "    def __init__(self, creature) -> None:\n",
    "        self.creature = creature\n",
    "        #esto va a apuntar a la siguiente funcion que se va a ejecutar\n",
    "        self.next_modifier = None\n",
    "\n",
    "    def add_modifier(self, modifier):\n",
    "        print(random.randint(0,100000))\n",
    "        if self.next_modifier:\n",
    "            self.next_modifier.add_modifier(modifier)\n",
    "        else:\n",
    "            self.next_modifier = modifier\n",
    "\n",
    "    def handle(self):\n",
    "        if self.next_modifier:\n",
    "            self.next_modifier.handle()\n",
    "\n",
    "class IncreaseDefenseModifier(CreatureModifier):\n",
    "    def handle(self):\n",
    "        if self.creature.attack <= 2:\n",
    "            print(f\"Increasing {self.creature.name} defense\")\n",
    "            self.creature.defense += 1\n",
    "        else:\n",
    "            print(\"Not possible to increase defense\")\n",
    "        super().handle()\n",
    "\n",
    "class DoubleAttackModifier(CreatureModifier):\n",
    "    def handle(self):\n",
    "        print(f\"Doubling {self.creature.name}'s attack\")\n",
    "        self.creature.attack *= 2\n",
    "        super().handle()\n",
    "\n",
    "class NoBonusesModifier(CreatureModifier):\n",
    "    def handle(self):\n",
    "        print(\"No bonuses for you\")"
   ]
  },
  {
   "cell_type": "code",
   "execution_count": 47,
   "metadata": {},
   "outputs": [
    {
     "output_type": "stream",
     "name": "stdout",
     "text": [
      "Gobline (1/1)\n"
     ]
    }
   ],
   "source": [
    "goblin = Creature(\"Gobline\", 1,1)\n",
    "print(goblin)\n",
    "\n",
    "root = CreatureModifier(goblin)"
   ]
  },
  {
   "cell_type": "code",
   "execution_count": 48,
   "metadata": {},
   "outputs": [
    {
     "output_type": "execute_result",
     "data": {
      "text/plain": [
       "(<__main__.CreatureModifier at 0x20d88b6df10>, None)"
      ]
     },
     "metadata": {},
     "execution_count": 48
    }
   ],
   "source": [
    "root, root.next_modifier"
   ]
  },
  {
   "cell_type": "code",
   "execution_count": 49,
   "metadata": {},
   "outputs": [],
   "source": [
    "root.add_modifier(IncreaseDefenseModifier(goblin))"
   ]
  },
  {
   "cell_type": "code",
   "execution_count": 50,
   "metadata": {},
   "outputs": [
    {
     "output_type": "execute_result",
     "data": {
      "text/plain": [
       "(<__main__.CreatureModifier at 0x20d88b6df10>,\n",
       " <__main__.IncreaseDefenseModifier at 0x20d888162b0>,\n",
       " None)"
      ]
     },
     "metadata": {},
     "execution_count": 50
    }
   ],
   "source": [
    "root, root.next_modifier, root.next_modifier.next_modifier"
   ]
  },
  {
   "cell_type": "code",
   "execution_count": 51,
   "metadata": {},
   "outputs": [],
   "source": [
    "root.add_modifier(DoubleAttackModifier(goblin))"
   ]
  },
  {
   "cell_type": "code",
   "execution_count": 52,
   "metadata": {},
   "outputs": [
    {
     "output_type": "execute_result",
     "data": {
      "text/plain": [
       "(<__main__.CreatureModifier at 0x20d88b6df10>,\n",
       " <__main__.IncreaseDefenseModifier at 0x20d888162b0>,\n",
       " <__main__.DoubleAttackModifier at 0x20d88913880>,\n",
       " None)"
      ]
     },
     "metadata": {},
     "execution_count": 52
    }
   ],
   "source": [
    "root, root.next_modifier, root.next_modifier.next_modifier, root.next_modifier.next_modifier.next_modifier\n"
   ]
  },
  {
   "cell_type": "code",
   "execution_count": 37,
   "metadata": {},
   "outputs": [
    {
     "output_type": "execute_result",
     "data": {
      "text/plain": [
       "<__main__.IncreaseDefenseModifier at 0x20d88bfed30>"
      ]
     },
     "metadata": {},
     "execution_count": 37
    }
   ],
   "source": [
    "root.next_modifier"
   ]
  },
  {
   "cell_type": "code",
   "execution_count": 30,
   "metadata": {},
   "outputs": [
    {
     "output_type": "execute_result",
     "data": {
      "text/plain": [
       "<bound method CreatureModifier.add_modifier of <__main__.CreatureModifier object at 0x0000020D88B26730>>"
      ]
     },
     "metadata": {},
     "execution_count": 30
    }
   ],
   "source": []
  }
 ],
 "metadata": {
  "kernelspec": {
   "name": "python3",
   "display_name": "Python 3.8.5 64-bit ('base': conda)"
  },
  "language_info": {
   "codemirror_mode": {
    "name": "ipython",
    "version": 3
   },
   "file_extension": ".py",
   "mimetype": "text/x-python",
   "name": "python",
   "nbconvert_exporter": "python",
   "pygments_lexer": "ipython3",
   "version": "3.8.5"
  },
  "interpreter": {
   "hash": "2751dd49061eaddcd1d21f07ab65a2d412e5f9cd59be860e59f35de9ff3f9905"
  }
 },
 "nbformat": 4,
 "nbformat_minor": 5
}